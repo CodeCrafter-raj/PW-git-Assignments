{
 "cells": [
  {
   "cell_type": "markdown",
   "id": "1cd0da11",
   "metadata": {},
   "source": [
    "# Tasks to Be Performed:"
   ]
  },
  {
   "cell_type": "markdown",
   "id": "41b8c2eb",
   "metadata": {},
   "source": [
    "Based on what you have learnt in the class, do the following steps: \n",
    "\n",
    "a. Create a new folder \n",
    "\n",
    "\n",
    "e. And finally push them to GitHub "
   ]
  },
  {
   "cell_type": "markdown",
   "id": "e58cd986",
   "metadata": {},
   "source": [
    "#this command is used to make a directory\n",
    "\n",
    "mkdir \"directory name\"\n",
    "\n",
    "RAj@ryzen-youanme MINGW64 ~/desktop/pwassignments\n",
    "$ mkdir gitAssignemnt\n"
   ]
  },
  {
   "cell_type": "markdown",
   "id": "52c154b4",
   "metadata": {},
   "source": [
    "# b. Put the following files in the folder\n",
    "\n",
    "Code.txt \n",
    "    \n",
    "Log.txt\n",
    "\n",
    "Output.txt "
   ]
  },
  {
   "cell_type": "markdown",
   "id": "b0fde996",
   "metadata": {},
   "source": [
    "COMMAND -  \n",
    "\n",
    "echo \"Hello from file1\" > code.txt\n",
    "\n",
    "\n",
    "echo \"This is log1 content\" > log.txt\n",
    "\n",
    "\n",
    "echo \"this is output.txt file content\" > output.txt"
   ]
  },
  {
   "cell_type": "markdown",
   "id": "69375093",
   "metadata": {},
   "source": [
    "# c. Stage the Code.txt and Output.txt files ."
   ]
  },
  {
   "cell_type": "code",
   "execution_count": null,
   "id": "f4c36c6c",
   "metadata": {},
   "outputs": [],
   "source": [
    "Command\n",
    "\n"
   ]
  },
  {
   "cell_type": "markdown",
   "id": "3a5edcf7",
   "metadata": {},
   "source": [
    "# D. Commit them "
   ]
  },
  {
   "cell_type": "code",
   "execution_count": null,
   "id": "6634e256",
   "metadata": {},
   "outputs": [],
   "source": [
    "Command\n",
    "\n"
   ]
  },
  {
   "cell_type": "markdown",
   "id": "6fe8baf1",
   "metadata": {},
   "source": [
    "# e. And finally push them to GitHub "
   ]
  },
  {
   "cell_type": "code",
   "execution_count": null,
   "id": "5562ab62",
   "metadata": {},
   "outputs": [],
   "source": [
    "Command\n",
    "\n"
   ]
  }
 ],
 "metadata": {
  "kernelspec": {
   "display_name": "Python 3 (ipykernel)",
   "language": "python",
   "name": "python3"
  },
  "language_info": {
   "codemirror_mode": {
    "name": "ipython",
    "version": 3
   },
   "file_extension": ".py",
   "mimetype": "text/x-python",
   "name": "python",
   "nbconvert_exporter": "python",
   "pygments_lexer": "ipython3",
   "version": "3.9.13"
  }
 },
 "nbformat": 4,
 "nbformat_minor": 5
}
