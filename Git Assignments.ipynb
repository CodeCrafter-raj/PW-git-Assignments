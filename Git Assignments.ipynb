{
 "cells": [
  {
   "cell_type": "markdown",
   "id": "d1f4d7c1",
   "metadata": {},
   "source": [
    "# 1 Based on what you have learnt in the class, do the following steps: \n",
    "\n",
    "                 a. Create a new folder \n",
    "\n",
    "                 b. Put the following files in the folder\n",
    "\n",
    "\n",
    "                                    Code.txt \n",
    "\n",
    "                                    Log.txt \n",
    "\n",
    "                                    Output.txt \n",
    "\n",
    "\n",
    "                 c. Stage the Code.txt and Output.txt files \n",
    "\n",
    "                 d. Commit them \n",
    "\n",
    "                 e. And finally push them to GitHub \n",
    "\n"
   ]
  },
  {
   "cell_type": "markdown",
   "id": "4670a5c3",
   "metadata": {},
   "source": [
    "# Command to perform the above task"
   ]
  },
  {
   "cell_type": "code",
   "execution_count": 12,
   "id": "79cc35f7",
   "metadata": {},
   "outputs": [
    {
     "ename": "SyntaxError",
     "evalue": "invalid syntax (2460882354.py, line 2)",
     "output_type": "error",
     "traceback": [
      "\u001b[1;36m  File \u001b[1;32m\"C:\\Users\\RAj\\AppData\\Local\\Temp\\ipykernel_6616\\2460882354.py\"\u001b[1;36m, line \u001b[1;32m2\u001b[0m\n\u001b[1;33m    mkdir my-new-project\u001b[0m\n\u001b[1;37m          ^\u001b[0m\n\u001b[1;31mSyntaxError\u001b[0m\u001b[1;31m:\u001b[0m invalid syntax\n"
     ]
    }
   ],
   "source": [
    "# a. Create a new folder\n",
    "mkdir my-new-project\n",
    "cd my-new-project\n",
    "\n",
    "# Initialize a new Git repository\n",
    "git init\n",
    "\n",
    "# b. Put the following files in the folder: Code.txt, Log.txt, Output.txt\n",
    "touch Code.txt Log.txt Output.txt\n",
    "\n",
    "# (Optional: Add content to files for a more meaningful commit)\n",
    "echo \"My program code.\" > Code.txt\n",
    "echo \"Daily log entries.\" > Log.txt\n",
    "echo \"Program execution output.\" > Output.txt\n",
    "\n",
    "# c. Stage the Code.txt and Output.txt files\n",
    "git add Code.txt Output.txt\n",
    "\n",
    "# d. Commit them\n",
    "git commit -m \"Initial commit: Added Code.txt and Output.txt\"\n",
    "\n",
    "git push -u origin master"
   ]
  },
  {
   "cell_type": "markdown",
   "id": "ab80cf3c",
   "metadata": {},
   "source": [
    "# 2 Tasks to Be Performed: \n",
    "\n",
    "\n",
    "1. Create a Git working directory with feature1.txt and feature2.txt in the master branch \n",
    "\n",
    "2. Create 3 branches develop, feature1 and feature2 \n",
    "\n",
    "3. In develop branch create develop.txt, do not stage or commit it \n",
    "\n",
    "4. Stash this file and check out to feature1 branch \n",
    "\n",
    "5. Create new.txt file in feature1 branch, stage and commit this file \n",
    "\n",
    "6. Checkout to develop, unstash this file and commit \n",
    "\n",
    "7. Please submit all the Git commands used to do the above step"
   ]
  },
  {
   "cell_type": "markdown",
   "id": "595fd277",
   "metadata": {},
   "source": [
    "# Command to perform the above task."
   ]
  },
  {
   "cell_type": "code",
   "execution_count": 1,
   "id": "f67275ef",
   "metadata": {},
   "outputs": [
    {
     "ename": "SyntaxError",
     "evalue": "invalid syntax (4198829392.py, line 2)",
     "output_type": "error",
     "traceback": [
      "\u001b[1;36m  File \u001b[1;32m\"C:\\Users\\RAj\\AppData\\Local\\Temp\\ipykernel_22664\\4198829392.py\"\u001b[1;36m, line \u001b[1;32m2\u001b[0m\n\u001b[1;33m    mkdir git-flow-example\u001b[0m\n\u001b[1;37m          ^\u001b[0m\n\u001b[1;31mSyntaxError\u001b[0m\u001b[1;31m:\u001b[0m invalid syntax\n"
     ]
    }
   ],
   "source": [
    "# 1. Create a Git working directory with feature1.txt and feature2.txt in the master branch\n",
    "mkdir git-flow-example\n",
    "cd git-flow-example\n",
    "git init\n",
    "touch feature1.txt feature2.txt\n",
    "echo \"Content for feature 1\" > feature1.txt\n",
    "echo \"Content for feature 2\" > feature2.txt\n",
    "git add feature1.txt feature2.txt\n",
    "git commit -m \"Initial commit: Added feature1.txt and feature2.txt\"\n",
    "\n",
    "# 2. Create 3 branches develop, feature1 and feature2\n",
    "git branch develop\n",
    "git branch feature1\n",
    "git branch feature2\n",
    "\n",
    "# 3. In develop branch create develop.txt, do not stage or commit it\n",
    "git checkout develop\n",
    "touch develop.txt\n",
    "echo \"This is content for develop.txt\" > develop.txt\n",
    "\n",
    "# 4. Stash this file and check out to feature1 branch\n",
    "git stash save \"Uncommitted changes in develop branch for develop.txt\"\n",
    "git checkout feature1\n",
    "\n",
    "# 5. Create new.txt file in feature1 branch, stage and commit this file\n",
    "touch new.txt\n",
    "echo \"Content for new.txt in feature1\" > new.txt\n",
    "git add new.txt\n",
    "git commit -m \"Added new.txt in feature1 branch\"\n",
    "\n",
    "# 6. Checkout to develop, unstash this file and commit\n",
    "git checkout develop\n",
    "git stash pop\n",
    "git add develop.txt\n",
    "git commit -m \"Added develop.txt to develop branch after unstashing\"\n",
    "\n"
   ]
  },
  {
   "cell_type": "markdown",
   "id": "86a9e371",
   "metadata": {},
   "source": [
    "# 3 Tasks to Be Performed: \n",
    "\n",
    "\n",
    "1. Create a Git working directory, with the following branches: \n",
    "\n",
    "\n",
    "               Develop \n",
    "\n",
    "               F1 \n",
    "\n",
    "               f2 \n",
    "\n",
    "\n",
    "2. In the master branch, commit main.txt file \n",
    "\n",
    "3. Put develop.txt in develop branch, f1.txt and f2.txt in f1 and f2 respectively \n",
    "\n",
    "4. Push all these branches to GitHub\n",
    "\n",
    "5. On local delete f2 branch \n",
    "\n",
    "6. Delete the same branch on GitHub as well3"
   ]
  },
  {
   "cell_type": "markdown",
   "id": "dd56d7e1",
   "metadata": {},
   "source": [
    "# Commands to perform the above task."
   ]
  },
  {
   "cell_type": "code",
   "execution_count": 2,
   "id": "7647c4b5",
   "metadata": {},
   "outputs": [
    {
     "ename": "SyntaxError",
     "evalue": "invalid syntax (1538880552.py, line 2)",
     "output_type": "error",
     "traceback": [
      "\u001b[1;36m  File \u001b[1;32m\"C:\\Users\\RAj\\AppData\\Local\\Temp\\ipykernel_22664\\1538880552.py\"\u001b[1;36m, line \u001b[1;32m2\u001b[0m\n\u001b[1;33m    mkdir git-flow-example\u001b[0m\n\u001b[1;37m          ^\u001b[0m\n\u001b[1;31mSyntaxError\u001b[0m\u001b[1;31m:\u001b[0m invalid syntax\n"
     ]
    }
   ],
   "source": [
    "# 1. Create a Git working directory, with the following branches: Develop, F1, f2\n",
    "mkdir git-flow-example\n",
    "cd git-flow-example\n",
    "git init\n",
    "git branch Develop\n",
    "git branch F1\n",
    "git branch f2\n",
    "\n",
    "# 2. In the master branch, commit main.txt file\n",
    "git checkout master\n",
    "touch main.txt\n",
    "echo \"This is the main file for the project.\" > main.txt\n",
    "git add main.txt\n",
    "git commit -m \"Initial commit: Added main.txt to master branch\"\n",
    "\n",
    "# 3. Put develop.txt in develop branch, f1.txt and f2.txt in f1 and f2 respectively\n",
    "git checkout Develop\n",
    "touch develop.txt\n",
    "echo \"Content for the develop branch.\" > develop.txt\n",
    "git add develop.txt\n",
    "git commit -m \"Added develop.txt to Develop branch\"\n",
    "\n",
    "git checkout F1\n",
    "touch f1.txt\n",
    "echo \"Content for feature F1.\" > f1.txt\n",
    "git add f1.txt\n",
    "git commit -m \"Added f1.txt to F1 branch\"\n",
    "\n",
    "git checkout f2\n",
    "touch f2.txt\n",
    "echo \"Content for feature f2.\" > f2.txt\n",
    "git add f2.txt\n",
    "git commit -m \"Added f2.txt to f2 branch\"\n",
    "\n",
    "# 4. Push all these branches to GitHub\n",
    "\n",
    "git push -u origin master\n",
    "git push -u origin Develop\n",
    "git push -u origin F1\n",
    "git push -u origin f2\n",
    "\n",
    "# 5. On local delete f2 branch\n",
    "git checkout master\n",
    "git branch -d f2\n",
    "\n",
    "# 6. Delete the same branch on GitHub as well\n",
    "git push origin --delete f2\n",
    "\n"
   ]
  },
  {
   "cell_type": "markdown",
   "id": "4468e213",
   "metadata": {},
   "source": [
    "# 4. Tasks to Be Performed: \n",
    "\n",
    "1. Put master.txt on master branch, stage and commit \n",
    "\n",
    "2. Create 3 branches: public 1, public 2 and private \n",
    "\n",
    "3. Put public1.txt on public 1 branch, stage and commit \n",
    "\n",
    "4. Merge public 1 on master branch \n",
    "\n",
    "5. Merge public 2 on master branch \n",
    "\n",
    "6. Edit master.txt on private branch, stage and commit \n",
    "\n",
    "7. Now update branch public 1 and public 2 with new master code in private \n",
    "\n",
    "8. Also update new master code on master \n",
    "\n",
    "9. Finally update all the code on the private branch"
   ]
  },
  {
   "cell_type": "code",
   "execution_count": 3,
   "id": "2196bd70",
   "metadata": {},
   "outputs": [
    {
     "ename": "SyntaxError",
     "evalue": "invalid syntax (1055970418.py, line 2)",
     "output_type": "error",
     "traceback": [
      "\u001b[1;36m  File \u001b[1;32m\"C:\\Users\\RAj\\AppData\\Local\\Temp\\ipykernel_22664\\1055970418.py\"\u001b[1;36m, line \u001b[1;32m2\u001b[0m\n\u001b[1;33m    touch master.txt\u001b[0m\n\u001b[1;37m          ^\u001b[0m\n\u001b[1;31mSyntaxError\u001b[0m\u001b[1;31m:\u001b[0m invalid syntax\n"
     ]
    }
   ],
   "source": [
    "\n",
    "\n",
    "# 1. Put master.txt on master branch, stage and commit\n",
    "touch master.txt\n",
    "echo \"Content specific to the master branch.\" > master.txt\n",
    "git add master.txt\n",
    "git commit -m \"Added master.txt to master branch\"\n",
    "\n",
    "# 2. Create 3 branches: public1, public2 and private\n",
    "git branch public1\n",
    "git branch public2\n",
    "git branch private\n",
    "\n",
    "# 3. Put public1.txt on public1 branch, stage and commit\n",
    "git checkout public1\n",
    "touch public1.txt\n",
    "echo \"This file is for public1 branch.\" > public1.txt\n",
    "git add public1.txt\n",
    "git commit -m \"Added public1.txt to public1 branch\"\n",
    "\n",
    "# Put public2.txt on public2 branch, stage and commit\n",
    "git checkout public2\n",
    "touch public2.txt\n",
    "echo \"This file is for public2 branch.\" > public2.txt\n",
    "git add public2.txt\n",
    "git commit -m \"Added public2.txt to public2 branch\"\n",
    "\n",
    "# 4. Merge public1 on master branch\n",
    "git checkout master\n",
    "git merge public1 -m \"Merge public1 into master\"\n",
    "\n",
    "# 5. Merge public2 on master branch\n",
    "git merge public2 -m \"Merge public2 into master\"\n",
    "\n",
    "# 6. Edit master.txt on private branch, stage and commit\n",
    "git checkout private\n",
    "echo \"Appended new content to master.txt from private branch.\" >> master.txt\n",
    "git add master.txt\n",
    "git commit -m \"Edited master.txt in private branch\"\n",
    "\n",
    "# 7. Now update branch public1 and public2 with new master code in private\n",
    "git checkout public1\n",
    "git merge private -m \"Update public1 with changes from private\"\n",
    "git checkout public2\n",
    "git merge private -m \"Update public2 with changes from private\"\n",
    "\n",
    "# 8. Also update new master code on master\n",
    "git checkout master\n",
    "git merge private -m \"Update master with changes from private\"\n",
    "\n",
    "# 9. Finally update all the code on the private branch\n",
    "git checkout private\n",
    "git merge master -m \"Update private branch with latest master changes\"\n",
    "\n"
   ]
  },
  {
   "cell_type": "markdown",
   "id": "f67127d6",
   "metadata": {},
   "source": [
    "# 5 Tasks to Be Performed: \n",
    "\n",
    "1. Create a Git Flow workflow architecture on Git \n",
    "\n",
    "2. Create all the required branches \n",
    "\n",
    "3. starting from e feature branch, push the branch to the master, following the architecture \n",
    "\n",
    "4. Push an urgent.txt on master using hotfix"
   ]
  },
  {
   "cell_type": "code",
   "execution_count": 4,
   "id": "5f8250f7",
   "metadata": {},
   "outputs": [
    {
     "ename": "SyntaxError",
     "evalue": "invalid syntax (4145735636.py, line 2)",
     "output_type": "error",
     "traceback": [
      "\u001b[1;36m  File \u001b[1;32m\"C:\\Users\\RAj\\AppData\\Local\\Temp\\ipykernel_22664\\4145735636.py\"\u001b[1;36m, line \u001b[1;32m2\u001b[0m\n\u001b[1;33m    mkdir git-flow-workflow\u001b[0m\n\u001b[1;37m          ^\u001b[0m\n\u001b[1;31mSyntaxError\u001b[0m\u001b[1;31m:\u001b[0m invalid syntax\n"
     ]
    }
   ],
   "source": [
    "# Initial Setup\n",
    "mkdir git-flow-workflow\n",
    "cd git-flow-workflow\n",
    "git init\n",
    "touch README.md\n",
    "echo \"# Git Flow Workflow Example\" > README.md\n",
    "git add README.md\n",
    "git commit -m \"Initial commit: Setup README\"\n",
    "\n",
    "# 2. Create core branches (develop)\n",
    "git branch develop\n",
    "\n",
    "# 3. Feature Workflow: Create, develop, merge to develop, merge develop to master\n",
    "# Start Feature\n",
    "git checkout develop\n",
    "git branch feature/my-new-feature\n",
    "git checkout feature/my-new-feature\n",
    "touch feature-A.txt\n",
    "echo \"This is content for feature A.\" > feature-A.txt\n",
    "git add feature-A.txt\n",
    "git commit -m \"feat: Added feature-A.txt\"\n",
    "# Finish Feature (to develop)\n",
    "git checkout develop\n",
    "git merge feature/my-new-feature -m \"Merge feature/my-new-feature into develop\"\n",
    "git branch -d feature/my-new-feature\n",
    "# Release (develop to master)\n",
    "git checkout master\n",
    "git merge develop -m \"Release: Version 1.0.0 - Integrated new features from develop\"\n",
    "\n",
    "# 4. Hotfix Workflow: Create, develop, merge to master, merge to develop\n",
    "# Start Hotfix\n",
    "git checkout master\n",
    "git branch hotfix/urgent-fix\n",
    "git checkout hotfix/urgent-fix\n",
    "touch urgent.txt\n",
    "echo \"Urgent fix for production issue.\" > urgent.txt\n",
    "git add urgent.txt\n",
    "git commit -m \"fix: Added urgent.txt for critical bug\"\n",
    "# Finish Hotfix (to master)\n",
    "git checkout master\n",
    "git merge hotfix/urgent-fix -m \"Hotfix: Applied urgent fix to master\"\n",
    "# Update develop with hotfix\n",
    "git checkout develop\n",
    "git merge hotfix/urgent-fix -m \"Hotfix: Applied urgent fix to develop\"\n",
    "git branch -d hotfix/urgent-fix\n",
    "\n"
   ]
  },
  {
   "cell_type": "code",
   "execution_count": null,
   "id": "c29fb7d3",
   "metadata": {},
   "outputs": [],
   "source": []
  }
 ],
 "metadata": {
  "kernelspec": {
   "display_name": "Python 3 (ipykernel)",
   "language": "python",
   "name": "python3"
  },
  "language_info": {
   "codemirror_mode": {
    "name": "ipython",
    "version": 3
   },
   "file_extension": ".py",
   "mimetype": "text/x-python",
   "name": "python",
   "nbconvert_exporter": "python",
   "pygments_lexer": "ipython3",
   "version": "3.9.13"
  }
 },
 "nbformat": 4,
 "nbformat_minor": 5
}
